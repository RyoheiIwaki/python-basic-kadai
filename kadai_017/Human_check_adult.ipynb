{
  "nbformat": 4,
  "nbformat_minor": 0,
  "metadata": {
    "colab": {
      "provenance": []
    },
    "kernelspec": {
      "name": "python3",
      "display_name": "Python 3"
    },
    "language_info": {
      "name": "python"
    }
  },
  "cells": [
    {
      "cell_type": "code",
      "execution_count": 10,
      "metadata": {
        "colab": {
          "base_uri": "https://localhost:8080/"
        },
        "id": "y9nOb_eOlxd6",
        "outputId": "51c6f3e5-826b-4352-e6c6-1f3d6af7b1b8"
      },
      "outputs": [
        {
          "output_type": "stream",
          "name": "stdout",
          "text": [
            "鈴木太郎は大人である\n",
            "佐藤愛子は大人ではない\n",
            "田中明は大人である\n"
          ]
        }
      ],
      "source": [
        "class Human:\n",
        "    def __init__(self, name, age):\n",
        "      self.name = name\n",
        "      self.age = age\n",
        "    def check_adult(self):\n",
        "      if self.age >= 20:\n",
        "        print(self.name+\"は大人である\")\n",
        "      else:\n",
        "        print(self.name+\"は大人ではない\")\n",
        "\n",
        "user1 = Human(\"鈴木太郎\", 32)\n",
        "user2 = Human(\"佐藤愛子\", 18)\n",
        "user3 = Human(\"田中明\", 65)\n",
        "\n",
        "users = [user1, user2, user3]\n",
        "\n",
        "for user in users:\n",
        "  user.check_adult()"
      ]
    }
  ]
}