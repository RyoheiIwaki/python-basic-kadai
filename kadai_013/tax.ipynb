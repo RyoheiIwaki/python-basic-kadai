{
  "nbformat": 4,
  "nbformat_minor": 0,
  "metadata": {
    "colab": {
      "provenance": []
    },
    "kernelspec": {
      "name": "python3",
      "display_name": "Python 3"
    },
    "language_info": {
      "name": "python"
    }
  },
  "cells": [
    {
      "cell_type": "code",
      "execution_count": 1,
      "metadata": {
        "colab": {
          "base_uri": "https://localhost:8080/"
        },
        "id": "aGKv1sWqvriZ",
        "outputId": "730cc93d-abdf-4d55-9f3a-f34e8916f979"
      },
      "outputs": [
        {
          "output_type": "stream",
          "name": "stdout",
          "text": [
            "1100.0\n"
          ]
        }
      ],
      "source": [
        "def add_tax (price, tax):\n",
        "  price = price + price * tax / 100\n",
        "  print(price)\n",
        "\n",
        "add_tax(1000, 10)"
      ]
    }
  ]
}