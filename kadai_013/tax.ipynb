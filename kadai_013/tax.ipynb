{
  "nbformat": 4,
  "nbformat_minor": 0,
  "metadata": {
    "colab": {
      "provenance": []
    },
    "kernelspec": {
      "name": "python3",
      "display_name": "Python 3"
    },
    "language_info": {
      "name": "python"
    }
  },
  "cells": [
    {
      "cell_type": "code",
      "execution_count": 2,
      "metadata": {
        "colab": {
          "base_uri": "https://localhost:8080/"
        },
        "id": "aGKv1sWqvriZ",
        "outputId": "a6edd1a3-9514-47b2-dbfc-a8f5e45eff1b"
      },
      "outputs": [
        {
          "output_type": "stream",
          "name": "stdout",
          "text": [
            "1100.0\n"
          ]
        }
      ],
      "source": [
        "def add_tax (price, tax):\n",
        "  price = price + price * tax / 100\n",
        "  return(price)\n",
        "\n",
        "print(add_tax(1000, 10))"
      ]
    }
  ]
}